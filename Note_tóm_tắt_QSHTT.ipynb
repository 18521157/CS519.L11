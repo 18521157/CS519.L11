{
  "nbformat": 4,
  "nbformat_minor": 0,
  "metadata": {
    "colab": {
      "name": "Note tóm tắt QSHTT.ipynb",
      "provenance": [],
      "authorship_tag": "ABX9TyMvyL9ozGfOBUkOBJAZywio",
      "include_colab_link": true
    },
    "kernelspec": {
      "name": "python3",
      "display_name": "Python 3"
    }
  },
  "cells": [
    {
      "cell_type": "markdown",
      "metadata": {
        "id": "view-in-github",
        "colab_type": "text"
      },
      "source": [
        "<a href=\"https://colab.research.google.com/github/18521157/CS519.L11/blob/main/Note_t%C3%B3m_t%E1%BA%AFt_QSHTT.ipynb\" target=\"_parent\"><img src=\"https://colab.research.google.com/assets/colab-badge.svg\" alt=\"Open In Colab\"/></a>"
      ]
    },
    {
      "cell_type": "markdown",
      "metadata": {
        "id": "BVBWdKYWsEyU"
      },
      "source": [
        "Nhóm N001: \n",
        "\n",
        "- Lê Trần Phúc Nguyên - 18521157 \n",
        "\n",
        "- Phan Thanh Nghĩa - 18521148 \n",
        "\n",
        "- Bùi Bảo Hưng - 15520281\n",
        "\n",
        "\n",
        "I.VAI TRÒ CỦA TÀI SẢN TRÍ TUỆ TRONG MỘT TỔ CHỨC\n",
        "\n",
        "- Tài sản:\n",
        "\n",
        "  + Gồm tài sản hữu hình và tài sản vô hình.\n",
        "\n",
        "  + Tài sản trong doanh nghiệp/ngành những năm gần đây.\n",
        "\n",
        "- Tài sản trí tuệ:\n",
        "\n",
        "- Khái niệm tài sản trí tuệ\n",
        "\n",
        "- Các loại tài sản trí tuệ:\n",
        "\n",
        "  + Quyền tác giả - quyền liên quan\n",
        "\n",
        "  + Sáng chế\n",
        "\n",
        "  + Kiểu dáng công nghiệp\n",
        "\n",
        "  + Nhãn hiệu\n",
        "\n",
        "  + Thiết kế bố trí mạch tích hợp bán dẫn\n",
        "\n",
        "II. PHÁP LUẬT BẢO HỘ TSTT NHƯ THẾ NÀO?\n",
        "\n",
        "- Quyền tài sản:\n",
        "\n",
        "  + QUYỀN CHIẾM HỮU\n",
        "\n",
        "  + QUYỀN SỬ DỤNG\n",
        "\n",
        "  + QUYỀN ĐỊNH ĐOẠT\n",
        "\n",
        "- Khung pháp luật về SHTT:\n",
        "\n",
        "  + Bộ Luật Dân sự\n",
        "\n",
        "  + Luật Sở hữu trí tuệ\n",
        "\n",
        "  + Điều ước quốc tế về SHTT\n",
        "\n",
        "  + Các ngành luật khác\n",
        "\n",
        "- 03 CƠ QUAN QUẢN LÝ NHÀ NƯỚC VỀ SHTT:\n",
        "\n",
        "  + CỤC BẢN QUYỀN TÁC GỈA\n",
        "\n",
        "  + CỤC SỞ HỮU TRÍ TUỆ\n",
        "\n",
        "  + CỤC TRỒNG TRỌT\n",
        "\n",
        "\t- Điều gì xảy ra nếu tổ chức, cá nhân không đăng ký bảo hộ TSTT?\n",
        "\n",
        "+ Mất quyền ưu tiên được bảo hộ theo nguyên tắc nộp đơn đầu tiên.\n",
        "\n",
        "+ Doanh nghiệp có nguy cơ trở thành bên vi phạm quyền sở hữu trí tuệ.\n",
        "\n",
        "=>Cách xử lí: đàm phán, chứng minh quyền.\n",
        "\n",
        "-  Một số hành vi xâm phạm quyền SHTT: Sử dụng sách lậu, phần mềm crack, trích dẫn tài liệu sai mục đích,…\n",
        "\n",
        "III. KHAI THÁC THƯƠNG MẠI QUYỀN SHTT:\n",
        "\n",
        "  +Tự khai thác.\n",
        "\n",
        "  +Li-xăng\n",
        "\n",
        "\n"
      ]
    }
  ]
}